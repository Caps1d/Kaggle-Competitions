{
 "cells": [
  {
   "cell_type": "code",
   "execution_count": 1,
   "id": "38dca001",
   "metadata": {
    "_cell_guid": "b1076dfc-b9ad-4769-8c92-a6c4dae69d19",
    "_uuid": "8f2839f25d086af736a60e9eeb907d3b93b6e0e5",
    "execution": {
     "iopub.execute_input": "2024-02-08T23:38:45.845337Z",
     "iopub.status.busy": "2024-02-08T23:38:45.844121Z",
     "iopub.status.idle": "2024-02-08T23:38:45.859024Z",
     "shell.execute_reply": "2024-02-08T23:38:45.858003Z"
    },
    "papermill": {
     "duration": 0.030734,
     "end_time": "2024-02-08T23:38:45.861726",
     "exception": false,
     "start_time": "2024-02-08T23:38:45.830992",
     "status": "completed"
    },
    "tags": []
   },
   "outputs": [
    {
     "name": "stdout",
     "output_type": "stream",
     "text": [
      "/kaggle/input/titanic/train.csv\n",
      "/kaggle/input/titanic/test.csv\n",
      "/kaggle/input/titanic/gender_submission.csv\n"
     ]
    }
   ],
   "source": [
    "# This Python 3 environment comes with many helpful analytics libraries installed\n",
    "# It is defined by the kaggle/python Docker image: https://github.com/kaggle/docker-python\n",
    "# For example, here's several helpful packages to load\n",
    "\n",
    "import numpy as np # linear algebra\n",
    "import pandas as pd # data processing, CSV file I/O (e.g. pd.read_csv)\n",
    "\n",
    "# Input data files are available in the read-only \"../input/\" directory\n",
    "# For example, running this (by clicking run or pressing Shift+Enter) will list all files under the input directory\n",
    "\n",
    "import os\n",
    "for dirname, _, filenames in os.walk('/kaggle/input'):\n",
    "    for filename in filenames:\n",
    "        print(os.path.join(dirname, filename))\n",
    "\n",
    "# You can write up to 20GB to the current directory (/kaggle/working/) that gets preserved as output when you create a version using \"Save & Run All\" \n",
    "# You can also write temporary files to /kaggle/temp/, but they won't be saved outside of the current session"
   ]
  },
  {
   "cell_type": "code",
   "execution_count": 2,
   "id": "3a3accb8",
   "metadata": {
    "execution": {
     "iopub.execute_input": "2024-02-08T23:38:45.885876Z",
     "iopub.status.busy": "2024-02-08T23:38:45.885412Z",
     "iopub.status.idle": "2024-02-08T23:38:47.220217Z",
     "shell.execute_reply": "2024-02-08T23:38:47.218865Z"
    },
    "papermill": {
     "duration": 1.350367,
     "end_time": "2024-02-08T23:38:47.223227",
     "exception": false,
     "start_time": "2024-02-08T23:38:45.872860",
     "status": "completed"
    },
    "tags": []
   },
   "outputs": [
    {
     "name": "stderr",
     "output_type": "stream",
     "text": [
      "/opt/conda/lib/python3.10/site-packages/scipy/__init__.py:146: UserWarning: A NumPy version >=1.16.5 and <1.23.0 is required for this version of SciPy (detected version 1.23.5\n",
      "  warnings.warn(f\"A NumPy version >={np_minversion} and <{np_maxversion}\"\n"
     ]
    }
   ],
   "source": [
    "import matplotlib.pyplot as plt\n",
    "import seaborn as sns\n",
    "%matplotlib inline"
   ]
  },
  {
   "cell_type": "code",
   "execution_count": 3,
   "id": "7f36fa54",
   "metadata": {
    "execution": {
     "iopub.execute_input": "2024-02-08T23:38:47.247382Z",
     "iopub.status.busy": "2024-02-08T23:38:47.246988Z",
     "iopub.status.idle": "2024-02-08T23:38:47.290972Z",
     "shell.execute_reply": "2024-02-08T23:38:47.289837Z"
    },
    "papermill": {
     "duration": 0.059736,
     "end_time": "2024-02-08T23:38:47.294151",
     "exception": false,
     "start_time": "2024-02-08T23:38:47.234415",
     "status": "completed"
    },
    "tags": []
   },
   "outputs": [],
   "source": [
    "train = pd.read_csv('/kaggle/input/titanic/train.csv')\n",
    "test = pd.read_csv('/kaggle/input/titanic/test.csv')"
   ]
  },
  {
   "cell_type": "code",
   "execution_count": 4,
   "id": "f9673536",
   "metadata": {
    "execution": {
     "iopub.execute_input": "2024-02-08T23:38:47.320326Z",
     "iopub.status.busy": "2024-02-08T23:38:47.319054Z",
     "iopub.status.idle": "2024-02-08T23:38:47.359450Z",
     "shell.execute_reply": "2024-02-08T23:38:47.358311Z"
    },
    "papermill": {
     "duration": 0.056409,
     "end_time": "2024-02-08T23:38:47.362340",
     "exception": false,
     "start_time": "2024-02-08T23:38:47.305931",
     "status": "completed"
    },
    "tags": []
   },
   "outputs": [
    {
     "data": {
      "text/html": [
       "<div>\n",
       "<style scoped>\n",
       "    .dataframe tbody tr th:only-of-type {\n",
       "        vertical-align: middle;\n",
       "    }\n",
       "\n",
       "    .dataframe tbody tr th {\n",
       "        vertical-align: top;\n",
       "    }\n",
       "\n",
       "    .dataframe thead th {\n",
       "        text-align: right;\n",
       "    }\n",
       "</style>\n",
       "<table border=\"1\" class=\"dataframe\">\n",
       "  <thead>\n",
       "    <tr style=\"text-align: right;\">\n",
       "      <th></th>\n",
       "      <th>PassengerId</th>\n",
       "      <th>Survived</th>\n",
       "      <th>Pclass</th>\n",
       "      <th>Name</th>\n",
       "      <th>Sex</th>\n",
       "      <th>Age</th>\n",
       "      <th>SibSp</th>\n",
       "      <th>Parch</th>\n",
       "      <th>Ticket</th>\n",
       "      <th>Fare</th>\n",
       "      <th>Cabin</th>\n",
       "      <th>Embarked</th>\n",
       "    </tr>\n",
       "  </thead>\n",
       "  <tbody>\n",
       "    <tr>\n",
       "      <th>0</th>\n",
       "      <td>1</td>\n",
       "      <td>0</td>\n",
       "      <td>3</td>\n",
       "      <td>Braund, Mr. Owen Harris</td>\n",
       "      <td>male</td>\n",
       "      <td>22.0</td>\n",
       "      <td>1</td>\n",
       "      <td>0</td>\n",
       "      <td>A/5 21171</td>\n",
       "      <td>7.2500</td>\n",
       "      <td>NaN</td>\n",
       "      <td>S</td>\n",
       "    </tr>\n",
       "    <tr>\n",
       "      <th>1</th>\n",
       "      <td>2</td>\n",
       "      <td>1</td>\n",
       "      <td>1</td>\n",
       "      <td>Cumings, Mrs. John Bradley (Florence Briggs Th...</td>\n",
       "      <td>female</td>\n",
       "      <td>38.0</td>\n",
       "      <td>1</td>\n",
       "      <td>0</td>\n",
       "      <td>PC 17599</td>\n",
       "      <td>71.2833</td>\n",
       "      <td>C85</td>\n",
       "      <td>C</td>\n",
       "    </tr>\n",
       "    <tr>\n",
       "      <th>2</th>\n",
       "      <td>3</td>\n",
       "      <td>1</td>\n",
       "      <td>3</td>\n",
       "      <td>Heikkinen, Miss. Laina</td>\n",
       "      <td>female</td>\n",
       "      <td>26.0</td>\n",
       "      <td>0</td>\n",
       "      <td>0</td>\n",
       "      <td>STON/O2. 3101282</td>\n",
       "      <td>7.9250</td>\n",
       "      <td>NaN</td>\n",
       "      <td>S</td>\n",
       "    </tr>\n",
       "    <tr>\n",
       "      <th>3</th>\n",
       "      <td>4</td>\n",
       "      <td>1</td>\n",
       "      <td>1</td>\n",
       "      <td>Futrelle, Mrs. Jacques Heath (Lily May Peel)</td>\n",
       "      <td>female</td>\n",
       "      <td>35.0</td>\n",
       "      <td>1</td>\n",
       "      <td>0</td>\n",
       "      <td>113803</td>\n",
       "      <td>53.1000</td>\n",
       "      <td>C123</td>\n",
       "      <td>S</td>\n",
       "    </tr>\n",
       "    <tr>\n",
       "      <th>4</th>\n",
       "      <td>5</td>\n",
       "      <td>0</td>\n",
       "      <td>3</td>\n",
       "      <td>Allen, Mr. William Henry</td>\n",
       "      <td>male</td>\n",
       "      <td>35.0</td>\n",
       "      <td>0</td>\n",
       "      <td>0</td>\n",
       "      <td>373450</td>\n",
       "      <td>8.0500</td>\n",
       "      <td>NaN</td>\n",
       "      <td>S</td>\n",
       "    </tr>\n",
       "  </tbody>\n",
       "</table>\n",
       "</div>"
      ],
      "text/plain": [
       "   PassengerId  Survived  Pclass  \\\n",
       "0            1         0       3   \n",
       "1            2         1       1   \n",
       "2            3         1       3   \n",
       "3            4         1       1   \n",
       "4            5         0       3   \n",
       "\n",
       "                                                Name     Sex   Age  SibSp  \\\n",
       "0                            Braund, Mr. Owen Harris    male  22.0      1   \n",
       "1  Cumings, Mrs. John Bradley (Florence Briggs Th...  female  38.0      1   \n",
       "2                             Heikkinen, Miss. Laina  female  26.0      0   \n",
       "3       Futrelle, Mrs. Jacques Heath (Lily May Peel)  female  35.0      1   \n",
       "4                           Allen, Mr. William Henry    male  35.0      0   \n",
       "\n",
       "   Parch            Ticket     Fare Cabin Embarked  \n",
       "0      0         A/5 21171   7.2500   NaN        S  \n",
       "1      0          PC 17599  71.2833   C85        C  \n",
       "2      0  STON/O2. 3101282   7.9250   NaN        S  \n",
       "3      0            113803  53.1000  C123        S  \n",
       "4      0            373450   8.0500   NaN        S  "
      ]
     },
     "execution_count": 4,
     "metadata": {},
     "output_type": "execute_result"
    }
   ],
   "source": [
    "train.head()"
   ]
  },
  {
   "cell_type": "markdown",
   "id": "d965462d",
   "metadata": {
    "papermill": {
     "duration": 0.01119,
     "end_time": "2024-02-08T23:38:47.385044",
     "exception": false,
     "start_time": "2024-02-08T23:38:47.373854",
     "status": "completed"
    },
    "tags": []
   },
   "source": [
    "### Capture passenger honorifics"
   ]
  },
  {
   "cell_type": "code",
   "execution_count": 5,
   "id": "eba752b7",
   "metadata": {
    "execution": {
     "iopub.execute_input": "2024-02-08T23:38:47.409447Z",
     "iopub.status.busy": "2024-02-08T23:38:47.409069Z",
     "iopub.status.idle": "2024-02-08T23:38:47.422877Z",
     "shell.execute_reply": "2024-02-08T23:38:47.421302Z"
    },
    "papermill": {
     "duration": 0.029378,
     "end_time": "2024-02-08T23:38:47.425682",
     "exception": false,
     "start_time": "2024-02-08T23:38:47.396304",
     "status": "completed"
    },
    "tags": []
   },
   "outputs": [],
   "source": [
    "#regex pattern to capture the title in the name field\n",
    "pattern = r'\\s(\\w+)\\.{1,1}\\s'\n",
    "train['Title'] = train['Name'].str.extract(pattern)"
   ]
  },
  {
   "cell_type": "code",
   "execution_count": 6,
   "id": "3fb88f0c",
   "metadata": {
    "execution": {
     "iopub.execute_input": "2024-02-08T23:38:47.450407Z",
     "iopub.status.busy": "2024-02-08T23:38:47.449983Z",
     "iopub.status.idle": "2024-02-08T23:38:47.458006Z",
     "shell.execute_reply": "2024-02-08T23:38:47.456761Z"
    },
    "papermill": {
     "duration": 0.023468,
     "end_time": "2024-02-08T23:38:47.460482",
     "exception": false,
     "start_time": "2024-02-08T23:38:47.437014",
     "status": "completed"
    },
    "tags": []
   },
   "outputs": [],
   "source": [
    "#repeating this for test\n",
    "pattern = r'\\s(\\w+)\\.{1,1}\\s'\n",
    "test['Title'] = test['Name'].str.extract(pattern)"
   ]
  },
  {
   "cell_type": "markdown",
   "id": "5a5d1505",
   "metadata": {
    "papermill": {
     "duration": 0.011224,
     "end_time": "2024-02-08T23:38:47.483239",
     "exception": false,
     "start_time": "2024-02-08T23:38:47.472015",
     "status": "completed"
    },
    "tags": []
   },
   "source": [
    "### Capture ticket types"
   ]
  },
  {
   "cell_type": "code",
   "execution_count": 7,
   "id": "f0a73378",
   "metadata": {
    "execution": {
     "iopub.execute_input": "2024-02-08T23:38:47.507531Z",
     "iopub.status.busy": "2024-02-08T23:38:47.507091Z",
     "iopub.status.idle": "2024-02-08T23:38:47.515591Z",
     "shell.execute_reply": "2024-02-08T23:38:47.514419Z"
    },
    "papermill": {
     "duration": 0.023553,
     "end_time": "2024-02-08T23:38:47.517885",
     "exception": false,
     "start_time": "2024-02-08T23:38:47.494332",
     "status": "completed"
    },
    "tags": []
   },
   "outputs": [],
   "source": [
    "#extracting ticket type\n",
    "ticket_letters = train['Ticket'].str.split(' ')\n",
    "letters = [x[0] if not x[0].isdigit() else 'X' for x in ticket_letters]\n",
    "train['TicketCat'] = letters"
   ]
  },
  {
   "cell_type": "code",
   "execution_count": 8,
   "id": "605fef82",
   "metadata": {
    "execution": {
     "iopub.execute_input": "2024-02-08T23:38:47.543035Z",
     "iopub.status.busy": "2024-02-08T23:38:47.542090Z",
     "iopub.status.idle": "2024-02-08T23:38:47.549909Z",
     "shell.execute_reply": "2024-02-08T23:38:47.548955Z"
    },
    "papermill": {
     "duration": 0.022974,
     "end_time": "2024-02-08T23:38:47.552151",
     "exception": false,
     "start_time": "2024-02-08T23:38:47.529177",
     "status": "completed"
    },
    "tags": []
   },
   "outputs": [],
   "source": [
    "#same for test\n",
    "ticket_letters = test['Ticket'].str.split(' ')\n",
    "letters = [x[0] if not x[0].isdigit() else 'X' for x in ticket_letters]\n",
    "test['TicketCat'] = letters"
   ]
  },
  {
   "cell_type": "markdown",
   "id": "cfaaa18c",
   "metadata": {
    "papermill": {
     "duration": 0.010926,
     "end_time": "2024-02-08T23:38:47.574688",
     "exception": false,
     "start_time": "2024-02-08T23:38:47.563762",
     "status": "completed"
    },
    "tags": []
   },
   "source": [
    "### Average ticket type per class"
   ]
  },
  {
   "cell_type": "code",
   "execution_count": 9,
   "id": "69c0533a",
   "metadata": {
    "execution": {
     "iopub.execute_input": "2024-02-08T23:38:47.599322Z",
     "iopub.status.busy": "2024-02-08T23:38:47.598940Z",
     "iopub.status.idle": "2024-02-08T23:38:47.894700Z",
     "shell.execute_reply": "2024-02-08T23:38:47.893547Z"
    },
    "papermill": {
     "duration": 0.31128,
     "end_time": "2024-02-08T23:38:47.897295",
     "exception": false,
     "start_time": "2024-02-08T23:38:47.586015",
     "status": "completed"
    },
    "tags": []
   },
   "outputs": [
    {
     "name": "stderr",
     "output_type": "stream",
     "text": [
      "/tmp/ipykernel_20/1706698076.py:1: FutureWarning: The default value of numeric_only in DataFrameGroupBy.mean is deprecated. In a future version, numeric_only will default to False. Either specify numeric_only or select only columns which should be valid for the function.\n",
      "  avg_fare_pclass = train.groupby(by='Pclass', as_index=False).mean()\n"
     ]
    },
    {
     "data": {
      "image/png": "[encoded data removed]",
      "text/plain": [
       "<Figure size 640x480 with 1 Axes>"
      ]
     },
     "metadata": {},
     "output_type": "display_data"
    }
   ],
   "source": [
    "avg_fare_pclass = train.groupby(by='Pclass', as_index=False).mean()\n",
    "sns.barplot(avg_fare_pclass, x='Pclass', y='Fare')\n",
    "plt.xlabel('Passenger Class')\n",
    "plt.ylabel('Average Fare')\n",
    "plt.title('Average Fare by Class')\n",
    "plt.show()"
   ]
  },
  {
   "cell_type": "markdown",
   "id": "03750385",
   "metadata": {
    "papermill": {
     "duration": 0.011509,
     "end_time": "2024-02-08T23:38:47.921116",
     "exception": false,
     "start_time": "2024-02-08T23:38:47.909607",
     "status": "completed"
    },
    "tags": []
   },
   "source": [
    "### Unique 1st class cabins"
   ]
  },
  {
   "cell_type": "code",
   "execution_count": 10,
   "id": "c561cf0d",
   "metadata": {
    "execution": {
     "iopub.execute_input": "2024-02-08T23:38:47.947595Z",
     "iopub.status.busy": "2024-02-08T23:38:47.946288Z",
     "iopub.status.idle": "2024-02-08T23:38:47.958601Z",
     "shell.execute_reply": "2024-02-08T23:38:47.957724Z"
    },
    "papermill": {
     "duration": 0.028017,
     "end_time": "2024-02-08T23:38:47.961038",
     "exception": false,
     "start_time": "2024-02-08T23:38:47.933021",
     "status": "completed"
    },
    "tags": []
   },
   "outputs": [
    {
     "data": {
      "text/plain": [
       "B96 B98        4\n",
       "C23 C25 C27    4\n",
       "C22 C26        3\n",
       "E24            2\n",
       "E67            2\n",
       "              ..\n",
       "E34            1\n",
       "C7             1\n",
       "C54            1\n",
       "E36            1\n",
       "C148           1\n",
       "Name: Cabin, Length: 133, dtype: int64"
      ]
     },
     "execution_count": 10,
     "metadata": {},
     "output_type": "execute_result"
    }
   ],
   "source": [
    "# can use .loc for shorter syntax: train.loc[train['Pclass']==1, 'Cabin'].value_counts()\n",
    "train[train['Pclass']==1]['Cabin'].value_counts()"
   ]
  },
  {
   "cell_type": "code",
   "execution_count": 11,
   "id": "3dbb1ea0",
   "metadata": {
    "execution": {
     "iopub.execute_input": "2024-02-08T23:38:47.987780Z",
     "iopub.status.busy": "2024-02-08T23:38:47.986792Z",
     "iopub.status.idle": "2024-02-08T23:38:47.996247Z",
     "shell.execute_reply": "2024-02-08T23:38:47.995238Z"
    },
    "papermill": {
     "duration": 0.025483,
     "end_time": "2024-02-08T23:38:47.998640",
     "exception": false,
     "start_time": "2024-02-08T23:38:47.973157",
     "status": "completed"
    },
    "tags": []
   },
   "outputs": [
    {
     "data": {
      "text/plain": [
       "1    159\n",
       "3     30\n",
       "2     22\n",
       "Name: Pclass, dtype: int64"
      ]
     },
     "execution_count": 11,
     "metadata": {},
     "output_type": "execute_result"
    }
   ],
   "source": [
    "train.loc[train.Fare > np.mean(train.Fare), 'Pclass'].value_counts()"
   ]
  },
  {
   "cell_type": "code",
   "execution_count": 12,
   "id": "46421b80",
   "metadata": {
    "execution": {
     "iopub.execute_input": "2024-02-08T23:38:48.025320Z",
     "iopub.status.busy": "2024-02-08T23:38:48.024435Z",
     "iopub.status.idle": "2024-02-08T23:38:48.042447Z",
     "shell.execute_reply": "2024-02-08T23:38:48.041583Z"
    },
    "papermill": {
     "duration": 0.033898,
     "end_time": "2024-02-08T23:38:48.044767",
     "exception": false,
     "start_time": "2024-02-08T23:38:48.010869",
     "status": "completed"
    },
    "tags": []
   },
   "outputs": [
    {
     "data": {
      "text/plain": [
       "Pclass  Sex     Survived\n",
       "1       female  1            91\n",
       "                0             3\n",
       "        male    0            77\n",
       "                1            45\n",
       "2       female  1            70\n",
       "                0             6\n",
       "        male    0            91\n",
       "                1            17\n",
       "3       female  0            72\n",
       "                1            72\n",
       "        male    0           300\n",
       "                1            47\n",
       "dtype: int64"
      ]
     },
     "execution_count": 12,
     "metadata": {},
     "output_type": "execute_result"
    }
   ],
   "source": [
    "train.groupby(by='Pclass Sex'.split())[['Survived']].value_counts()"
   ]
  },
  {
   "cell_type": "markdown",
   "id": "806a710e",
   "metadata": {
    "papermill": {
     "duration": 0.013272,
     "end_time": "2024-02-08T23:38:48.070355",
     "exception": false,
     "start_time": "2024-02-08T23:38:48.057083",
     "status": "completed"
    },
    "tags": []
   },
   "source": [
    "Currently its apparent from my observations that the best odds of survival are for women, especially in 1st class. Sex and passenger class appear to be the most determining factors in survival. \n",
    "\n",
    "For men, being in the 1st class is the best of odds survival (45/122 survived)."
   ]
  },
  {
   "cell_type": "markdown",
   "id": "a09689f6",
   "metadata": {
    "papermill": {
     "duration": 0.011749,
     "end_time": "2024-02-08T23:38:48.094836",
     "exception": false,
     "start_time": "2024-02-08T23:38:48.083087",
     "status": "completed"
    },
    "tags": []
   },
   "source": [
    "### Display the age of passengers with highest survival rate"
   ]
  },
  {
   "cell_type": "code",
   "execution_count": 13,
   "id": "9215f55e",
   "metadata": {
    "execution": {
     "iopub.execute_input": "2024-02-08T23:38:48.120731Z",
     "iopub.status.busy": "2024-02-08T23:38:48.120306Z",
     "iopub.status.idle": "2024-02-08T23:38:48.407150Z",
     "shell.execute_reply": "2024-02-08T23:38:48.406248Z"
    },
    "papermill": {
     "duration": 0.302764,
     "end_time": "2024-02-08T23:38:48.409560",
     "exception": false,
     "start_time": "2024-02-08T23:38:48.106796",
     "status": "completed"
    },
    "tags": []
   },
   "outputs": [
    {
     "data": {
      "text/plain": [
       "Text(0.5, 1.0, 'Survived by Gender')"
      ]
     },
     "execution_count": 13,
     "metadata": {},
     "output_type": "execute_result"
    },
    {
     "data": {
      "image/png": "[encoded data removed]",
      "text/plain": [
       "<Figure size 640x480 with 1 Axes>"
      ]
     },
     "metadata": {},
     "output_type": "display_data"
    }
   ],
   "source": [
    "sns.countplot(x='Survived', hue='Sex', data=train)\n",
    "plt.title('Survived by Gender')"
   ]
  },
  {
   "cell_type": "markdown",
   "id": "3a7f27f0",
   "metadata": {
    "papermill": {
     "duration": 0.013041,
     "end_time": "2024-02-08T23:38:48.435699",
     "exception": false,
     "start_time": "2024-02-08T23:38:48.422658",
     "status": "completed"
    },
    "tags": []
   },
   "source": [
    "### Handle missing cabins"
   ]
  },
  {
   "cell_type": "code",
   "execution_count": 14,
   "id": "c832e6ed",
   "metadata": {
    "execution": {
     "iopub.execute_input": "2024-02-08T23:38:48.463130Z",
     "iopub.status.busy": "2024-02-08T23:38:48.462695Z",
     "iopub.status.idle": "2024-02-08T23:38:48.469742Z",
     "shell.execute_reply": "2024-02-08T23:38:48.468438Z"
    },
    "papermill": {
     "duration": 0.023631,
     "end_time": "2024-02-08T23:38:48.472117",
     "exception": false,
     "start_time": "2024-02-08T23:38:48.448486",
     "status": "completed"
    },
    "tags": []
   },
   "outputs": [],
   "source": [
    "train.Cabin.fillna(0, inplace=True)\n",
    "test.Cabin.fillna(0, inplace=True)"
   ]
  },
  {
   "cell_type": "code",
   "execution_count": 15,
   "id": "7e8cd734",
   "metadata": {
    "execution": {
     "iopub.execute_input": "2024-02-08T23:38:48.500915Z",
     "iopub.status.busy": "2024-02-08T23:38:48.499904Z",
     "iopub.status.idle": "2024-02-08T23:38:48.505903Z",
     "shell.execute_reply": "2024-02-08T23:38:48.504779Z"
    },
    "papermill": {
     "duration": 0.022564,
     "end_time": "2024-02-08T23:38:48.508176",
     "exception": false,
     "start_time": "2024-02-08T23:38:48.485612",
     "status": "completed"
    },
    "tags": []
   },
   "outputs": [],
   "source": [
    "test.Fare.fillna(0,inplace=True)"
   ]
  },
  {
   "cell_type": "code",
   "execution_count": 16,
   "id": "b6713421",
   "metadata": {
    "execution": {
     "iopub.execute_input": "2024-02-08T23:38:48.535720Z",
     "iopub.status.busy": "2024-02-08T23:38:48.535280Z",
     "iopub.status.idle": "2024-02-08T23:38:48.542481Z",
     "shell.execute_reply": "2024-02-08T23:38:48.541312Z"
    },
    "papermill": {
     "duration": 0.024029,
     "end_time": "2024-02-08T23:38:48.545148",
     "exception": false,
     "start_time": "2024-02-08T23:38:48.521119",
     "status": "completed"
    },
    "tags": []
   },
   "outputs": [],
   "source": [
    "#Feature engineering creating a column called HasCabin\n",
    "train['HasCabin'] = np.select([train['Cabin'] != 0, train['Cabin'] == 0], [1, 0])"
   ]
  },
  {
   "cell_type": "code",
   "execution_count": 17,
   "id": "7051fa68",
   "metadata": {
    "execution": {
     "iopub.execute_input": "2024-02-08T23:38:48.573336Z",
     "iopub.status.busy": "2024-02-08T23:38:48.572864Z",
     "iopub.status.idle": "2024-02-08T23:38:48.579629Z",
     "shell.execute_reply": "2024-02-08T23:38:48.578535Z"
    },
    "papermill": {
     "duration": 0.023296,
     "end_time": "2024-02-08T23:38:48.581886",
     "exception": false,
     "start_time": "2024-02-08T23:38:48.558590",
     "status": "completed"
    },
    "tags": []
   },
   "outputs": [],
   "source": [
    "#Feature engineering creating a column called HasCabin\n",
    "test['HasCabin'] = np.select([test['Cabin'] != 0, test['Cabin'] == 0], [1, 0])"
   ]
  },
  {
   "cell_type": "code",
   "execution_count": 18,
   "id": "66d70430",
   "metadata": {
    "execution": {
     "iopub.execute_input": "2024-02-08T23:38:48.609434Z",
     "iopub.status.busy": "2024-02-08T23:38:48.608980Z",
     "iopub.status.idle": "2024-02-08T23:38:48.879303Z",
     "shell.execute_reply": "2024-02-08T23:38:48.878263Z"
    },
    "papermill": {
     "duration": 0.287205,
     "end_time": "2024-02-08T23:38:48.881988",
     "exception": false,
     "start_time": "2024-02-08T23:38:48.594783",
     "status": "completed"
    },
    "tags": []
   },
   "outputs": [
    {
     "data": {
      "text/plain": [
       "<AxesSubplot: xlabel='HasCabin', ylabel='count'>"
      ]
     },
     "execution_count": 18,
     "metadata": {},
     "output_type": "execute_result"
    },
    {
     "data": {
      "image/png": "[encoded data removed]",
      "text/plain": [
       "<Figure size 640x480 with 1 Axes>"
      ]
     },
     "metadata": {},
     "output_type": "display_data"
    }
   ],
   "source": [
    "survived_cabin = train.groupby(by='HasCabin', as_index=False)[['Survived']].value_counts()\n",
    "sns.barplot(survived_cabin, x='HasCabin', y='count', hue='Survived')"
   ]
  },
  {
   "cell_type": "markdown",
   "id": "f69523d2",
   "metadata": {
    "papermill": {
     "duration": 0.013061,
     "end_time": "2024-02-08T23:38:48.908776",
     "exception": false,
     "start_time": "2024-02-08T23:38:48.895715",
     "status": "completed"
    },
    "tags": []
   },
   "source": [
    "The survival rate of people with cabins is ~67% while those without is ~30%. Hence, having a cabin also increases once chances of survival (most likely wealthier passengers with a higher class). \n",
    "\n",
    "Outcome: most people with cabins have survived."
   ]
  },
  {
   "cell_type": "code",
   "execution_count": 19,
   "id": "99995810",
   "metadata": {
    "execution": {
     "iopub.execute_input": "2024-02-08T23:38:48.937282Z",
     "iopub.status.busy": "2024-02-08T23:38:48.936836Z",
     "iopub.status.idle": "2024-02-08T23:38:48.959195Z",
     "shell.execute_reply": "2024-02-08T23:38:48.957979Z"
    },
    "papermill": {
     "duration": 0.040042,
     "end_time": "2024-02-08T23:38:48.962104",
     "exception": false,
     "start_time": "2024-02-08T23:38:48.922062",
     "status": "completed"
    },
    "tags": []
   },
   "outputs": [],
   "source": [
    "mean_class3 = train[train.Pclass == 3]['Age'].mean()\n",
    "mean_class2 = train[train.Pclass == 2]['Age'].mean()\n",
    "mean_class1 = train[train.Pclass == 1]['Age'].mean()\n",
    "\n",
    "train.loc[(train.Pclass == 3) & (train.Age.isna()), 'Age'] = mean_class3\n",
    "train.loc[(train.Pclass == 2) & (train.Age.isna()), 'Age'] = mean_class2\n",
    "train.loc[(train.Pclass == 1) & (train.Age.isna()), 'Age'] = mean_class1\n",
    "\n",
    "mean_class3 = test[test.Pclass == 3]['Age'].mean()\n",
    "mean_class2 = test[test.Pclass == 2]['Age'].mean()\n",
    "mean_class1 = test[test.Pclass == 1]['Age'].mean()\n",
    "\n",
    "test.loc[(test.Pclass == 3) & (test.Age.isna()), 'Age'] = mean_class3\n",
    "test.loc[(test.Pclass == 2) & (test.Age.isna()), 'Age'] = mean_class2\n",
    "test.loc[(test.Pclass == 1) & (test.Age.isna()), 'Age'] = mean_class1"
   ]
  },
  {
   "cell_type": "markdown",
   "id": "907d76b4",
   "metadata": {
    "papermill": {
     "duration": 0.013062,
     "end_time": "2024-02-08T23:38:48.989038",
     "exception": false,
     "start_time": "2024-02-08T23:38:48.975976",
     "status": "completed"
    },
    "tags": []
   },
   "source": [
    "Fix: I want to rewrite this into a function"
   ]
  },
  {
   "cell_type": "code",
   "execution_count": 20,
   "id": "c47104cd",
   "metadata": {
    "execution": {
     "iopub.execute_input": "2024-02-08T23:38:49.017796Z",
     "iopub.status.busy": "2024-02-08T23:38:49.017341Z",
     "iopub.status.idle": "2024-02-08T23:38:49.022748Z",
     "shell.execute_reply": "2024-02-08T23:38:49.021448Z"
    },
    "papermill": {
     "duration": 0.022456,
     "end_time": "2024-02-08T23:38:49.025095",
     "exception": false,
     "start_time": "2024-02-08T23:38:49.002639",
     "status": "completed"
    },
    "tags": []
   },
   "outputs": [],
   "source": [
    "# train['Age'].fillna(np.mean(train['Age']), inplace=True\n",
    "# train['Age'] = train.Age.interpolate()"
   ]
  },
  {
   "cell_type": "code",
   "execution_count": 21,
   "id": "1edf1b52",
   "metadata": {
    "execution": {
     "iopub.execute_input": "2024-02-08T23:38:49.055783Z",
     "iopub.status.busy": "2024-02-08T23:38:49.053253Z",
     "iopub.status.idle": "2024-02-08T23:38:49.081467Z",
     "shell.execute_reply": "2024-02-08T23:38:49.080696Z"
    },
    "papermill": {
     "duration": 0.045231,
     "end_time": "2024-02-08T23:38:49.083647",
     "exception": false,
     "start_time": "2024-02-08T23:38:49.038416",
     "status": "completed"
    },
    "tags": []
   },
   "outputs": [
    {
     "data": {
      "text/html": [
       "<div>\n",
       "<style scoped>\n",
       "    .dataframe tbody tr th:only-of-type {\n",
       "        vertical-align: middle;\n",
       "    }\n",
       "\n",
       "    .dataframe tbody tr th {\n",
       "        vertical-align: top;\n",
       "    }\n",
       "\n",
       "    .dataframe thead th {\n",
       "        text-align: right;\n",
       "    }\n",
       "</style>\n",
       "<table border=\"1\" class=\"dataframe\">\n",
       "  <thead>\n",
       "    <tr style=\"text-align: right;\">\n",
       "      <th></th>\n",
       "      <th>PassengerId</th>\n",
       "      <th>Survived</th>\n",
       "      <th>Pclass</th>\n",
       "      <th>Name</th>\n",
       "      <th>Sex</th>\n",
       "      <th>Age</th>\n",
       "      <th>SibSp</th>\n",
       "      <th>Parch</th>\n",
       "      <th>Ticket</th>\n",
       "      <th>Fare</th>\n",
       "      <th>Cabin</th>\n",
       "      <th>Embarked</th>\n",
       "      <th>Title</th>\n",
       "      <th>TicketCat</th>\n",
       "      <th>HasCabin</th>\n",
       "    </tr>\n",
       "  </thead>\n",
       "  <tbody>\n",
       "    <tr>\n",
       "      <th>0</th>\n",
       "      <td>1</td>\n",
       "      <td>0</td>\n",
       "      <td>3</td>\n",
       "      <td>Braund, Mr. Owen Harris</td>\n",
       "      <td>male</td>\n",
       "      <td>22.00000</td>\n",
       "      <td>1</td>\n",
       "      <td>0</td>\n",
       "      <td>A/5 21171</td>\n",
       "      <td>7.2500</td>\n",
       "      <td>0</td>\n",
       "      <td>S</td>\n",
       "      <td>Mr</td>\n",
       "      <td>A/5</td>\n",
       "      <td>0</td>\n",
       "    </tr>\n",
       "    <tr>\n",
       "      <th>1</th>\n",
       "      <td>2</td>\n",
       "      <td>1</td>\n",
       "      <td>1</td>\n",
       "      <td>Cumings, Mrs. John Bradley (Florence Briggs Th...</td>\n",
       "      <td>female</td>\n",
       "      <td>38.00000</td>\n",
       "      <td>1</td>\n",
       "      <td>0</td>\n",
       "      <td>PC 17599</td>\n",
       "      <td>71.2833</td>\n",
       "      <td>C85</td>\n",
       "      <td>C</td>\n",
       "      <td>Mrs</td>\n",
       "      <td>PC</td>\n",
       "      <td>1</td>\n",
       "    </tr>\n",
       "    <tr>\n",
       "      <th>2</th>\n",
       "      <td>3</td>\n",
       "      <td>1</td>\n",
       "      <td>3</td>\n",
       "      <td>Heikkinen, Miss. Laina</td>\n",
       "      <td>female</td>\n",
       "      <td>26.00000</td>\n",
       "      <td>0</td>\n",
       "      <td>0</td>\n",
       "      <td>STON/O2. 3101282</td>\n",
       "      <td>7.9250</td>\n",
       "      <td>0</td>\n",
       "      <td>S</td>\n",
       "      <td>Miss</td>\n",
       "      <td>STON/O2.</td>\n",
       "      <td>0</td>\n",
       "    </tr>\n",
       "    <tr>\n",
       "      <th>3</th>\n",
       "      <td>4</td>\n",
       "      <td>1</td>\n",
       "      <td>1</td>\n",
       "      <td>Futrelle, Mrs. Jacques Heath (Lily May Peel)</td>\n",
       "      <td>female</td>\n",
       "      <td>35.00000</td>\n",
       "      <td>1</td>\n",
       "      <td>0</td>\n",
       "      <td>113803</td>\n",
       "      <td>53.1000</td>\n",
       "      <td>C123</td>\n",
       "      <td>S</td>\n",
       "      <td>Mrs</td>\n",
       "      <td>X</td>\n",
       "      <td>1</td>\n",
       "    </tr>\n",
       "    <tr>\n",
       "      <th>4</th>\n",
       "      <td>5</td>\n",
       "      <td>0</td>\n",
       "      <td>3</td>\n",
       "      <td>Allen, Mr. William Henry</td>\n",
       "      <td>male</td>\n",
       "      <td>35.00000</td>\n",
       "      <td>0</td>\n",
       "      <td>0</td>\n",
       "      <td>373450</td>\n",
       "      <td>8.0500</td>\n",
       "      <td>0</td>\n",
       "      <td>S</td>\n",
       "      <td>Mr</td>\n",
       "      <td>X</td>\n",
       "      <td>0</td>\n",
       "    </tr>\n",
       "    <tr>\n",
       "      <th>...</th>\n",
       "      <td>...</td>\n",
       "      <td>...</td>\n",
       "      <td>...</td>\n",
       "      <td>...</td>\n",
       "      <td>...</td>\n",
       "      <td>...</td>\n",
       "      <td>...</td>\n",
       "      <td>...</td>\n",
       "      <td>...</td>\n",
       "      <td>...</td>\n",
       "      <td>...</td>\n",
       "      <td>...</td>\n",
       "      <td>...</td>\n",
       "      <td>...</td>\n",
       "      <td>...</td>\n",
       "    </tr>\n",
       "    <tr>\n",
       "      <th>886</th>\n",
       "      <td>887</td>\n",
       "      <td>0</td>\n",
       "      <td>2</td>\n",
       "      <td>Montvila, Rev. Juozas</td>\n",
       "      <td>male</td>\n",
       "      <td>27.00000</td>\n",
       "      <td>0</td>\n",
       "      <td>0</td>\n",
       "      <td>211536</td>\n",
       "      <td>13.0000</td>\n",
       "      <td>0</td>\n",
       "      <td>S</td>\n",
       "      <td>Rev</td>\n",
       "      <td>X</td>\n",
       "      <td>0</td>\n",
       "    </tr>\n",
       "    <tr>\n",
       "      <th>887</th>\n",
       "      <td>888</td>\n",
       "      <td>1</td>\n",
       "      <td>1</td>\n",
       "      <td>Graham, Miss. Margaret Edith</td>\n",
       "      <td>female</td>\n",
       "      <td>19.00000</td>\n",
       "      <td>0</td>\n",
       "      <td>0</td>\n",
       "      <td>112053</td>\n",
       "      <td>30.0000</td>\n",
       "      <td>B42</td>\n",
       "      <td>S</td>\n",
       "      <td>Miss</td>\n",
       "      <td>X</td>\n",
       "      <td>1</td>\n",
       "    </tr>\n",
       "    <tr>\n",
       "      <th>888</th>\n",
       "      <td>889</td>\n",
       "      <td>0</td>\n",
       "      <td>3</td>\n",
       "      <td>Johnston, Miss. Catherine Helen \"Carrie\"</td>\n",
       "      <td>female</td>\n",
       "      <td>25.14062</td>\n",
       "      <td>1</td>\n",
       "      <td>2</td>\n",
       "      <td>W./C. 6607</td>\n",
       "      <td>23.4500</td>\n",
       "      <td>0</td>\n",
       "      <td>S</td>\n",
       "      <td>Miss</td>\n",
       "      <td>W./C.</td>\n",
       "      <td>0</td>\n",
       "    </tr>\n",
       "    <tr>\n",
       "      <th>889</th>\n",
       "      <td>890</td>\n",
       "      <td>1</td>\n",
       "      <td>1</td>\n",
       "      <td>Behr, Mr. Karl Howell</td>\n",
       "      <td>male</td>\n",
       "      <td>26.00000</td>\n",
       "      <td>0</td>\n",
       "      <td>0</td>\n",
       "      <td>111369</td>\n",
       "      <td>30.0000</td>\n",
       "      <td>C148</td>\n",
       "      <td>C</td>\n",
       "      <td>Mr</td>\n",
       "      <td>X</td>\n",
       "      <td>1</td>\n",
       "    </tr>\n",
       "    <tr>\n",
       "      <th>890</th>\n",
       "      <td>891</td>\n",
       "      <td>0</td>\n",
       "      <td>3</td>\n",
       "      <td>Dooley, Mr. Patrick</td>\n",
       "      <td>male</td>\n",
       "      <td>32.00000</td>\n",
       "      <td>0</td>\n",
       "      <td>0</td>\n",
       "      <td>370376</td>\n",
       "      <td>7.7500</td>\n",
       "      <td>0</td>\n",
       "      <td>Q</td>\n",
       "      <td>Mr</td>\n",
       "      <td>X</td>\n",
       "      <td>0</td>\n",
       "    </tr>\n",
       "  </tbody>\n",
       "</table>\n",
       "<p>891 rows × 15 columns</p>\n",
       "</div>"
      ],
      "text/plain": [
       "     PassengerId  Survived  Pclass  \\\n",
       "0              1         0       3   \n",
       "1              2         1       1   \n",
       "2              3         1       3   \n",
       "3              4         1       1   \n",
       "4              5         0       3   \n",
       "..           ...       ...     ...   \n",
       "886          887         0       2   \n",
       "887          888         1       1   \n",
       "888          889         0       3   \n",
       "889          890         1       1   \n",
       "890          891         0       3   \n",
       "\n",
       "                                                  Name     Sex       Age  \\\n",
       "0                              Braund, Mr. Owen Harris    male  22.00000   \n",
       "1    Cumings, Mrs. John Bradley (Florence Briggs Th...  female  38.00000   \n",
       "2                               Heikkinen, Miss. Laina  female  26.00000   \n",
       "3         Futrelle, Mrs. Jacques Heath (Lily May Peel)  female  35.00000   \n",
       "4                             Allen, Mr. William Henry    male  35.00000   \n",
       "..                                                 ...     ...       ...   \n",
       "886                              Montvila, Rev. Juozas    male  27.00000   \n",
       "887                       Graham, Miss. Margaret Edith  female  19.00000   \n",
       "888           Johnston, Miss. Catherine Helen \"Carrie\"  female  25.14062   \n",
       "889                              Behr, Mr. Karl Howell    male  26.00000   \n",
       "890                                Dooley, Mr. Patrick    male  32.00000   \n",
       "\n",
       "     SibSp  Parch            Ticket     Fare Cabin Embarked Title TicketCat  \\\n",
       "0        1      0         A/5 21171   7.2500     0        S    Mr       A/5   \n",
       "1        1      0          PC 17599  71.2833   C85        C   Mrs        PC   \n",
       "2        0      0  STON/O2. 3101282   7.9250     0        S  Miss  STON/O2.   \n",
       "3        1      0            113803  53.1000  C123        S   Mrs         X   \n",
       "4        0      0            373450   8.0500     0        S    Mr         X   \n",
       "..     ...    ...               ...      ...   ...      ...   ...       ...   \n",
       "886      0      0            211536  13.0000     0        S   Rev         X   \n",
       "887      0      0            112053  30.0000   B42        S  Miss         X   \n",
       "888      1      2        W./C. 6607  23.4500     0        S  Miss     W./C.   \n",
       "889      0      0            111369  30.0000  C148        C    Mr         X   \n",
       "890      0      0            370376   7.7500     0        Q    Mr         X   \n",
       "\n",
       "     HasCabin  \n",
       "0           0  \n",
       "1           1  \n",
       "2           0  \n",
       "3           1  \n",
       "4           0  \n",
       "..        ...  \n",
       "886         0  \n",
       "887         1  \n",
       "888         0  \n",
       "889         1  \n",
       "890         0  \n",
       "\n",
       "[891 rows x 15 columns]"
      ]
     },
     "execution_count": 21,
     "metadata": {},
     "output_type": "execute_result"
    }
   ],
   "source": [
    "train"
   ]
  },
  {
   "cell_type": "code",
   "execution_count": 22,
   "id": "c02425b3",
   "metadata": {
    "execution": {
     "iopub.execute_input": "2024-02-08T23:38:49.113785Z",
     "iopub.status.busy": "2024-02-08T23:38:49.113057Z",
     "iopub.status.idle": "2024-02-08T23:38:49.120948Z",
     "shell.execute_reply": "2024-02-08T23:38:49.119916Z"
    },
    "papermill": {
     "duration": 0.025849,
     "end_time": "2024-02-08T23:38:49.123468",
     "exception": false,
     "start_time": "2024-02-08T23:38:49.097619",
     "status": "completed"
    },
    "tags": []
   },
   "outputs": [],
   "source": [
    "train.dropna(inplace=True)\n",
    "# test.dropna(inplace=True)"
   ]
  },
  {
   "cell_type": "code",
   "execution_count": 23,
   "id": "a04f93b7",
   "metadata": {
    "execution": {
     "iopub.execute_input": "2024-02-08T23:38:49.153344Z",
     "iopub.status.busy": "2024-02-08T23:38:49.152681Z",
     "iopub.status.idle": "2024-02-08T23:38:49.629030Z",
     "shell.execute_reply": "2024-02-08T23:38:49.628207Z"
    },
    "papermill": {
     "duration": 0.493683,
     "end_time": "2024-02-08T23:38:49.631110",
     "exception": false,
     "start_time": "2024-02-08T23:38:49.137427",
     "status": "completed"
    },
    "tags": []
   },
   "outputs": [
    {
     "data": {
      "text/plain": [
       "<AxesSubplot: >"
      ]
     },
     "execution_count": 23,
     "metadata": {},
     "output_type": "execute_result"
    },
    {
     "data": {
      "image/png": "[encoded data removed]",
      "text/plain": [
       "<Figure size 640x480 with 1 Axes>"
      ]
     },
     "metadata": {},
     "output_type": "display_data"
    }
   ],
   "source": [
    "sns.heatmap(test.isnull(), cbar=None, cmap='viridis')"
   ]
  },
  {
   "cell_type": "markdown",
   "id": "f797d97f",
   "metadata": {
    "papermill": {
     "duration": 0.014408,
     "end_time": "2024-02-08T23:38:49.660366",
     "exception": false,
     "start_time": "2024-02-08T23:38:49.645958",
     "status": "completed"
    },
    "tags": []
   },
   "source": [
    "**Train-test split, one hot encoding and model fit**"
   ]
  },
  {
   "cell_type": "code",
   "execution_count": 24,
   "id": "f7415437",
   "metadata": {
    "execution": {
     "iopub.execute_input": "2024-02-08T23:38:49.692539Z",
     "iopub.status.busy": "2024-02-08T23:38:49.691753Z",
     "iopub.status.idle": "2024-02-08T23:38:51.159129Z",
     "shell.execute_reply": "2024-02-08T23:38:51.156833Z"
    },
    "papermill": {
     "duration": 1.4883,
     "end_time": "2024-02-08T23:38:51.163444",
     "exception": false,
     "start_time": "2024-02-08T23:38:49.675144",
     "status": "completed"
    },
    "tags": []
   },
   "outputs": [
    {
     "name": "stdout",
     "output_type": "stream",
     "text": [
      "              precision    recall  f1-score   support\n",
      "\n",
      "           0       0.84      0.93      0.89       163\n",
      "           1       0.87      0.73      0.80       104\n",
      "\n",
      "    accuracy                           0.85       267\n",
      "   macro avg       0.86      0.83      0.84       267\n",
      "weighted avg       0.86      0.85      0.85       267\n",
      "\n"
     ]
    }
   ],
   "source": [
    "from sklearn.model_selection import train_test_split\n",
    "\n",
    "# Full dataset preparation\n",
    "X_full = train.drop('Survived', axis=1)\n",
    "y_full = train['Survived']\n",
    "\n",
    "# Train-Validation split\n",
    "X_train, X_val, y_train, y_val = train_test_split(X_full, y_full, test_size=0.3, random_state=101)\n",
    "\n",
    "# Preparing the test set\n",
    "X_test = test.copy()  \n",
    "\n",
    "# One-hot encoding separately and dropping the original columns\n",
    "X_train = pd.get_dummies(X_train, columns=['Sex', 'Embarked', 'TicketCat', 'HasCabin', 'Cabin', 'Title'], drop_first=True)\n",
    "X_val = pd.get_dummies(X_val, columns=['Sex', 'Embarked', 'TicketCat', 'HasCabin', 'Cabin', 'Title'], drop_first=True)\n",
    "X_test = pd.get_dummies(X_test, columns=['Sex', 'Embarked', 'TicketCat', 'HasCabin','Cabin', 'Title'], drop_first=True)\n",
    "\n",
    "# Drop the 'Name' and 'Ticket' columns\n",
    "X_train = X_train.drop(['Name', 'Ticket'], axis=1)\n",
    "X_val = X_val.drop(['Name', 'Ticket'], axis=1)\n",
    "X_test = X_test.drop(['Name', 'Ticket'], axis=1)\n",
    "\n",
    "# Ensuring same columns in train, validation and test after one-hot encoding\n",
    "X_train, X_val = X_train.align(X_val, join='left', axis=1)\n",
    "X_train, X_test = X_train.align(X_test, join='left', axis=1)\n",
    "\n",
    "# Replacing NaN values with 0 after aligning the dataframes\n",
    "X_train.fillna(0, inplace=True)\n",
    "X_val.fillna(0, inplace=True)\n",
    "X_test.fillna(0, inplace=True)\n",
    "\n",
    "# Now, your X_train and y_train should have the same number of rows\n",
    "from sklearn.linear_model import LogisticRegression\n",
    "\n",
    "logmodel = LogisticRegression(max_iter=50000)\n",
    "logmodel.fit(X_train, y_train)\n",
    "\n",
    "from sklearn.metrics import classification_report\n",
    "\n",
    "predictions_val = logmodel.predict(X_val)\n",
    "print(classification_report(y_val, predictions_val))\n"
   ]
  },
  {
   "cell_type": "code",
   "execution_count": 25,
   "id": "92fe3c08",
   "metadata": {
    "execution": {
     "iopub.execute_input": "2024-02-08T23:38:51.232296Z",
     "iopub.status.busy": "2024-02-08T23:38:51.231583Z",
     "iopub.status.idle": "2024-02-08T23:38:51.252532Z",
     "shell.execute_reply": "2024-02-08T23:38:51.250951Z"
    },
    "papermill": {
     "duration": 0.061176,
     "end_time": "2024-02-08T23:38:51.257749",
     "exception": false,
     "start_time": "2024-02-08T23:38:51.196573",
     "status": "completed"
    },
    "tags": []
   },
   "outputs": [],
   "source": [
    "final_predictions = logmodel.predict(X_test)\n"
   ]
  },
  {
   "cell_type": "code",
   "execution_count": 26,
   "id": "cac4ac4a",
   "metadata": {
    "execution": {
     "iopub.execute_input": "2024-02-08T23:38:51.322680Z",
     "iopub.status.busy": "2024-02-08T23:38:51.321980Z",
     "iopub.status.idle": "2024-02-08T23:38:51.347073Z",
     "shell.execute_reply": "2024-02-08T23:38:51.345444Z"
    },
    "papermill": {
     "duration": 0.062708,
     "end_time": "2024-02-08T23:38:51.352106",
     "exception": false,
     "start_time": "2024-02-08T23:38:51.289398",
     "status": "completed"
    },
    "tags": []
   },
   "outputs": [],
   "source": [
    "submission_df = pd.DataFrame({'PassengerId': X_test['PassengerId'], 'Survived': final_predictions})\n",
    "\n",
    "submission_df.to_csv('submission.csv', index=False)"
   ]
  }
 ],
 "metadata": {
  "kaggle": {
   "accelerator": "none",
   "dataSources": [
    {
     "databundleVersionId": 26502,
     "sourceId": 3136,
     "sourceType": "competition"
    }
   ],
   "dockerImageVersionId": 30474,
   "isGpuEnabled": false,
   "isInternetEnabled": false,
   "language": "python",
   "sourceType": "notebook"
  },
  "kernelspec": {
   "display_name": "Python 3",
   "language": "python",
   "name": "python3"
  },
  "language_info": {
   "codemirror_mode": {
    "name": "ipython",
    "version": 3
   },
   "file_extension": ".py",
   "mimetype": "text/x-python",
   "name": "python",
   "nbconvert_exporter": "python",
   "pygments_lexer": "ipython3",
   "version": "3.10.10"
  },
  "papermill": {
   "default_parameters": {},
   "duration": 19.854344,
   "end_time": "2024-02-08T23:38:52.399373",
   "environment_variables": {},
   "exception": null,
   "input_path": "__notebook__.ipynb",
   "output_path": "__notebook__.ipynb",
   "parameters": {},
   "start_time": "2024-02-08T23:38:32.545029",
   "version": "2.4.0"
  }
 },
 "nbformat": 4,
 "nbformat_minor": 5
}
